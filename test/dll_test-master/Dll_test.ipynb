{
 "cells": [
  {
   "cell_type": "code",
   "execution_count": 2,
   "metadata": {},
   "outputs": [],
   "source": [
    "import ctypes\n",
    "from ctypes import *\n",
    "from ctypes import c_float, c_int, c_double\n",
    "import numpy as np\n",
    "import numpy.ctypeslib as ctl\n",
    "lib = WinDLL('x64/Release/DLL_test.dll') # путь до длльки"
   ]
  },
  {
   "cell_type": "code",
   "execution_count": 3,
   "metadata": {},
   "outputs": [
    {
     "name": "stdout",
     "output_type": "stream",
     "text": [
      "51.0\n"
     ]
    }
   ],
   "source": [
    "f_add_one = lib.add_one\n",
    "f_add_one.argtypes = [ctypes.c_float]\n",
    "f_add_one.restype = ctypes.c_float\n",
    "value = 50.0\n",
    "results = f_add_one(value)\n",
    "print(results)"
   ]
  },
  {
   "cell_type": "code",
   "execution_count": 4,
   "metadata": {},
   "outputs": [
    {
     "data": {
      "text/plain": [
       "70.0"
      ]
     },
     "execution_count": 4,
     "metadata": {},
     "output_type": "execute_result"
    }
   ],
   "source": [
    "f = lib.sum_double # кладем в переменную функцию из длльки\n",
    "f.argtypes = [ctypes.c_double,ctypes.c_double] # типы данных на вход в функцию\n",
    "f.restype = ctypes.c_double # типы данных на выход функции\n",
    "print(f(20,50))"
   ]
  },
  {
   "cell_type": "code",
   "execution_count": null,
   "metadata": {},
   "outputs": [],
   "source": [
    "f = lib.sum_int\n",
    "f.argtypes = [ctypes.c_int,ctypes.c_int]\n",
    "f.restype = ctypes.c_int\n",
    "print(f(20,50))"
   ]
  }
 ],
 "metadata": {
  "kernelspec": {
   "display_name": "Python 3",
   "language": "python",
   "name": "python3"
  },
  "language_info": {
   "codemirror_mode": {
    "name": "ipython",
    "version": 3
   },
   "file_extension": ".py",
   "mimetype": "text/x-python",
   "name": "python",
   "nbconvert_exporter": "python",
   "pygments_lexer": "ipython3",
   "version": "3.6.7"
  }
 },
 "nbformat": 4,
 "nbformat_minor": 4
}
